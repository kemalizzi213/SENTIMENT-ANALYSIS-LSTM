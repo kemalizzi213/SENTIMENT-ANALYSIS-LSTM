{
 "cells": [
  {
   "cell_type": "code",
   "execution_count": 1,
   "metadata": {},
   "outputs": [],
   "source": [
    "import pandas as pd\n",
    "import numpy as np\n",
    "import re\n",
    "import nltk\n",
    "from nltk.corpus import stopwords\n",
    "from nltk.tokenize import word_tokenize\n",
    "from keras.preprocessing.text import Tokenizer\n",
    "from tensorflow.keras.preprocessing.sequence import pad_sequences\n",
    "from keras.models import Sequential\n",
    "from keras.layers import Embedding, Conv1D, MaxPooling1D, Flatten, Dense\n",
    "from sklearn.model_selection import train_test_split\n",
    "from sklearn.preprocessing import LabelEncoder\n",
    "from sklearn.metrics import accuracy_score, recall_score, precision_score, f1_score"
   ]
  },
  {
   "cell_type": "code",
   "execution_count": 2,
   "metadata": {},
   "outputs": [
    {
     "data": {
      "text/plain": [
       "[['ChatGPT: Optimizing Language Models for Dialogue https://t.co/K9rKRygYyn @OpenAI',\n",
       "  'neutral'],\n",
       " ['Try talking with ChatGPT, our new AI system which is optimized for dialogue. Your feedback will help us improve it. https://t.co/sHDm57g3Kr',\n",
       "  'good'],\n",
       " ['ChatGPT: Optimizing Language Models for Dialogue https://t.co/GLEbMoKN6w #AI #MachineLearning #DataScience #ArtificialIntelligence\\\\n\\\\nTrending AI/ML Article Identified &amp; Digested via Granola; a Machine-Driven RSS Bot by Ramsey Elbasheer https://t.co/RprmAXUp34',\n",
       "  'neutral'],\n",
       " ['THRILLED to share that ChatGPT, our new model optimized for dialog, is now public, free, and accessible to everyone. https://t.co/dyvtHecYbd https://t.co/DdhzhqhCBX https://t.co/l8qTLure71',\n",
       "  'good'],\n",
       " ['As of 2 minutes ago, @OpenAI released their new ChatGPT. \\\\n\\\\nAnd you can use it right now 👇 https://t.co/VyPGPNw988 https://t.co/cSn5h6h1M1',\n",
       "  'bad']]"
      ]
     },
     "execution_count": 2,
     "metadata": {},
     "output_type": "execute_result"
    }
   ],
   "source": [
    "data = pd.read_csv(\"file.csv\")\n",
    "data = data.drop([data.columns[0]], axis=1)\n",
    "data.values[:5].tolist()"
   ]
  },
  {
   "cell_type": "markdown",
   "metadata": {},
   "source": [
    "Drop duplicated values"
   ]
  },
  {
   "cell_type": "code",
   "execution_count": 3,
   "metadata": {},
   "outputs": [
    {
     "name": "stdout",
     "output_type": "stream",
     "text": [
      "Duplicated values:  1671\n",
      "<class 'pandas.core.frame.DataFrame'>\n",
      "Index: 217623 entries, 0 to 219293\n",
      "Data columns (total 2 columns):\n",
      " #   Column  Non-Null Count   Dtype \n",
      "---  ------  --------------   ----- \n",
      " 0   tweets  217623 non-null  object\n",
      " 1   labels  217623 non-null  object\n",
      "dtypes: object(2)\n",
      "memory usage: 5.0+ MB\n",
      "None\n"
     ]
    }
   ],
   "source": [
    "print(\"Duplicated values: \" , data.duplicated().sum())\n",
    "\n",
    "data.drop_duplicates(inplace=True)\n",
    "data = data.dropna(axis=0)\n",
    "print(data.info())"
   ]
  },
  {
   "cell_type": "markdown",
   "metadata": {},
   "source": [
    "Balance data"
   ]
  },
  {
   "cell_type": "code",
   "execution_count": 4,
   "metadata": {},
   "outputs": [
    {
     "data": {
      "text/plain": [
       "labels\n",
       "bad        106695\n",
       "good        55754\n",
       "neutral     55174\n",
       "Name: count, dtype: int64"
      ]
     },
     "execution_count": 4,
     "metadata": {},
     "output_type": "execute_result"
    }
   ],
   "source": [
    "data[\"labels\"].value_counts()"
   ]
  },
  {
   "cell_type": "code",
   "execution_count": 5,
   "metadata": {},
   "outputs": [
    {
     "data": {
      "text/html": [
       "<div>\n",
       "<style scoped>\n",
       "    .dataframe tbody tr th:only-of-type {\n",
       "        vertical-align: middle;\n",
       "    }\n",
       "\n",
       "    .dataframe tbody tr th {\n",
       "        vertical-align: top;\n",
       "    }\n",
       "\n",
       "    .dataframe thead th {\n",
       "        text-align: right;\n",
       "    }\n",
       "</style>\n",
       "<table border=\"1\" class=\"dataframe\">\n",
       "  <thead>\n",
       "    <tr style=\"text-align: right;\">\n",
       "      <th></th>\n",
       "      <th>tweets</th>\n",
       "      <th>labels</th>\n",
       "    </tr>\n",
       "  </thead>\n",
       "  <tbody>\n",
       "    <tr>\n",
       "      <th>4</th>\n",
       "      <td>As of 2 minutes ago, @OpenAI released their ne...</td>\n",
       "      <td>bad</td>\n",
       "    </tr>\n",
       "    <tr>\n",
       "      <th>6</th>\n",
       "      <td>As of 2 minutes ago, @OpenAI released their ne...</td>\n",
       "      <td>bad</td>\n",
       "    </tr>\n",
       "    <tr>\n",
       "      <th>10</th>\n",
       "      <td>GOD DAMN IT @OpenAI STOP ANNOUNCING THINGS I A...</td>\n",
       "      <td>bad</td>\n",
       "    </tr>\n",
       "    <tr>\n",
       "      <th>17</th>\n",
       "      <td>#ai Models are set to become the search engine...</td>\n",
       "      <td>bad</td>\n",
       "    </tr>\n",
       "    <tr>\n",
       "      <th>39</th>\n",
       "      <td>Google is done.\\n\\nCompare the quality of thes...</td>\n",
       "      <td>bad</td>\n",
       "    </tr>\n",
       "  </tbody>\n",
       "</table>\n",
       "</div>"
      ],
      "text/plain": [
       "                                               tweets labels\n",
       "4   As of 2 minutes ago, @OpenAI released their ne...    bad\n",
       "6   As of 2 minutes ago, @OpenAI released their ne...    bad\n",
       "10  GOD DAMN IT @OpenAI STOP ANNOUNCING THINGS I A...    bad\n",
       "17  #ai Models are set to become the search engine...    bad\n",
       "39  Google is done.\\n\\nCompare the quality of thes...    bad"
      ]
     },
     "execution_count": 5,
     "metadata": {},
     "output_type": "execute_result"
    }
   ],
   "source": [
    "class_0 = data[data[\"labels\"] == \"neutral\"]\n",
    "class_1 = data[data[\"labels\"] == \"good\"]\n",
    "class_neg = data[data[\"labels\"] == \"bad\"]\n",
    "class_neg  = class_neg.iloc[:70000]\n",
    "data = pd.concat([class_neg , class_0 , class_1])\n",
    "\n",
    "data.head()"
   ]
  },
  {
   "cell_type": "code",
   "execution_count": 6,
   "metadata": {},
   "outputs": [
    {
     "data": {
      "text/plain": [
       "labels\n",
       "bad        70000\n",
       "good       55754\n",
       "neutral    55174\n",
       "Name: count, dtype: int64"
      ]
     },
     "execution_count": 6,
     "metadata": {},
     "output_type": "execute_result"
    }
   ],
   "source": [
    "data[\"labels\"].value_counts()"
   ]
  },
  {
   "cell_type": "markdown",
   "metadata": {},
   "source": [
    "Cleaning dataset"
   ]
  },
  {
   "cell_type": "code",
   "execution_count": 7,
   "metadata": {},
   "outputs": [
    {
     "name": "stderr",
     "output_type": "stream",
     "text": [
      "[nltk_data] Downloading package wordnet to\n",
      "[nltk_data]     C:\\Users\\user\\AppData\\Roaming\\nltk_data...\n",
      "[nltk_data]   Package wordnet is already up-to-date!\n",
      "[nltk_data] Downloading package punkt to\n",
      "[nltk_data]     C:\\Users\\user\\AppData\\Roaming\\nltk_data...\n",
      "[nltk_data]   Package punkt is already up-to-date!\n",
      "[nltk_data] Downloading package stopwords to\n",
      "[nltk_data]     C:\\Users\\user\\AppData\\Roaming\\nltk_data...\n",
      "[nltk_data]   Package stopwords is already up-to-date!\n"
     ]
    },
    {
     "data": {
      "text/html": [
       "<div>\n",
       "<style scoped>\n",
       "    .dataframe tbody tr th:only-of-type {\n",
       "        vertical-align: middle;\n",
       "    }\n",
       "\n",
       "    .dataframe tbody tr th {\n",
       "        vertical-align: top;\n",
       "    }\n",
       "\n",
       "    .dataframe thead th {\n",
       "        text-align: right;\n",
       "    }\n",
       "</style>\n",
       "<table border=\"1\" class=\"dataframe\">\n",
       "  <thead>\n",
       "    <tr style=\"text-align: right;\">\n",
       "      <th></th>\n",
       "      <th>tweets</th>\n",
       "      <th>cleaned_tweets</th>\n",
       "      <th>labels</th>\n",
       "    </tr>\n",
       "  </thead>\n",
       "  <tbody>\n",
       "    <tr>\n",
       "      <th>4</th>\n",
       "      <td>As of 2 minutes ago, @OpenAI released their ne...</td>\n",
       "      <td>minute ago released new chatgpt use right</td>\n",
       "      <td>bad</td>\n",
       "    </tr>\n",
       "    <tr>\n",
       "      <th>6</th>\n",
       "      <td>As of 2 minutes ago, @OpenAI released their ne...</td>\n",
       "      <td>minute ago released new chatgpt use right</td>\n",
       "      <td>bad</td>\n",
       "    </tr>\n",
       "    <tr>\n",
       "      <th>10</th>\n",
       "      <td>GOD DAMN IT @OpenAI STOP ANNOUNCING THINGS I A...</td>\n",
       "      <td>god damn stop announcing thing busy</td>\n",
       "      <td>bad</td>\n",
       "    </tr>\n",
       "    <tr>\n",
       "      <th>17</th>\n",
       "      <td>#ai Models are set to become the search engine...</td>\n",
       "      <td>model set become search engine future atm stil...</td>\n",
       "      <td>bad</td>\n",
       "    </tr>\n",
       "    <tr>\n",
       "      <th>39</th>\n",
       "      <td>Google is done.\\n\\nCompare the quality of thes...</td>\n",
       "      <td>google done compare quality response chatgpt</td>\n",
       "      <td>bad</td>\n",
       "    </tr>\n",
       "  </tbody>\n",
       "</table>\n",
       "</div>"
      ],
      "text/plain": [
       "                                               tweets  \\\n",
       "4   As of 2 minutes ago, @OpenAI released their ne...   \n",
       "6   As of 2 minutes ago, @OpenAI released their ne...   \n",
       "10  GOD DAMN IT @OpenAI STOP ANNOUNCING THINGS I A...   \n",
       "17  #ai Models are set to become the search engine...   \n",
       "39  Google is done.\\n\\nCompare the quality of thes...   \n",
       "\n",
       "                                       cleaned_tweets labels  \n",
       "4           minute ago released new chatgpt use right    bad  \n",
       "6           minute ago released new chatgpt use right    bad  \n",
       "10                god damn stop announcing thing busy    bad  \n",
       "17  model set become search engine future atm stil...    bad  \n",
       "39       google done compare quality response chatgpt    bad  "
      ]
     },
     "execution_count": 7,
     "metadata": {},
     "output_type": "execute_result"
    }
   ],
   "source": [
    "import nltk\n",
    "from nltk.corpus import wordnet as wn\n",
    "from nltk.stem import WordNetLemmatizer,PorterStemmer\n",
    "\n",
    "nltk.download('wordnet')\n",
    "nltk.download('punkt')\n",
    "nltk.download('stopwords')\n",
    "\n",
    "stop_words = set(stopwords.words('english'))\n",
    "st = PorterStemmer()\n",
    "lem = WordNetLemmatizer()\n",
    "\n",
    "def is_alpha(word):\n",
    "    for part in word.split('-'):\n",
    "        if not part.isalpha():\n",
    "            return False\n",
    "    \n",
    "    return True\n",
    "\n",
    "def clean_dataset(text):\n",
    "    text = re.sub(r'http\\S+', '', text) # removing links\n",
    "    text = re.sub(r'\\\\n', ' ', text) # removing \\\\n\n",
    "    text = re.sub(r\"\\s*#\\S+\", \"\", text) # removing hash tags\n",
    "    text = re.sub(r\"\\s*@\\S+\", \"\", text) # removing @\n",
    "    text = text.lower()\n",
    "    words = [word for word in word_tokenize(text) if is_alpha(word)]\n",
    "    #words = [st.stem(word) for word in words]\n",
    "    words = [lem.lemmatize(word) for word in words]\n",
    "    \n",
    "    # text = \" \".join([word for word in text.split(\" \") if is_alpha(word)])\n",
    "    # text = re.sub(r'[^a-zA-Z\\s]', '', text, re.I|re.A) \n",
    "    words = [w for w in words if not w in stop_words]\n",
    "    text = \" \".join(words)\n",
    "    \n",
    "    return text.strip()\n",
    "\n",
    "data.insert(len(data.columns)-1, \"cleaned_tweets\", data['tweets'].apply(clean_dataset))\n",
    "data.head()"
   ]
  },
  {
   "cell_type": "markdown",
   "metadata": {},
   "source": [
    "Converting dataset in numerical form"
   ]
  },
  {
   "cell_type": "code",
   "execution_count": 14,
   "metadata": {},
   "outputs": [
    {
     "data": {
      "text/html": [
       "<div>\n",
       "<style scoped>\n",
       "    .dataframe tbody tr th:only-of-type {\n",
       "        vertical-align: middle;\n",
       "    }\n",
       "\n",
       "    .dataframe tbody tr th {\n",
       "        vertical-align: top;\n",
       "    }\n",
       "\n",
       "    .dataframe thead th {\n",
       "        text-align: right;\n",
       "    }\n",
       "</style>\n",
       "<table border=\"1\" class=\"dataframe\">\n",
       "  <thead>\n",
       "    <tr style=\"text-align: right;\">\n",
       "      <th></th>\n",
       "      <th>index</th>\n",
       "      <th>tweets</th>\n",
       "      <th>cleaned_tweets</th>\n",
       "      <th>numeric_tweets</th>\n",
       "      <th>labels</th>\n",
       "    </tr>\n",
       "  </thead>\n",
       "  <tbody>\n",
       "    <tr>\n",
       "      <th>0</th>\n",
       "      <td>4</td>\n",
       "      <td>As of 2 minutes ago, @OpenAI released their ne...</td>\n",
       "      <td>minute ago released new chatgpt use right</td>\n",
       "      <td>[0, 0, 0, 0, 0, 0, 0, 0, 0, 0, 0, 0, 0, 0, 0, ...</td>\n",
       "      <td>bad</td>\n",
       "    </tr>\n",
       "    <tr>\n",
       "      <th>1</th>\n",
       "      <td>6</td>\n",
       "      <td>As of 2 minutes ago, @OpenAI released their ne...</td>\n",
       "      <td>minute ago released new chatgpt use right</td>\n",
       "      <td>[0, 0, 0, 0, 0, 0, 0, 0, 0, 0, 0, 0, 0, 0, 0, ...</td>\n",
       "      <td>bad</td>\n",
       "    </tr>\n",
       "    <tr>\n",
       "      <th>2</th>\n",
       "      <td>10</td>\n",
       "      <td>GOD DAMN IT @OpenAI STOP ANNOUNCING THINGS I A...</td>\n",
       "      <td>god damn stop announcing thing busy</td>\n",
       "      <td>[0, 0, 0, 0, 0, 0, 0, 0, 0, 0, 0, 0, 0, 0, 0, ...</td>\n",
       "      <td>bad</td>\n",
       "    </tr>\n",
       "    <tr>\n",
       "      <th>3</th>\n",
       "      <td>17</td>\n",
       "      <td>#ai Models are set to become the search engine...</td>\n",
       "      <td>model set become search engine future atm stil...</td>\n",
       "      <td>[0, 0, 0, 0, 0, 0, 0, 0, 0, 0, 0, 0, 0, 0, 0, ...</td>\n",
       "      <td>bad</td>\n",
       "    </tr>\n",
       "    <tr>\n",
       "      <th>4</th>\n",
       "      <td>39</td>\n",
       "      <td>Google is done.\\n\\nCompare the quality of thes...</td>\n",
       "      <td>google done compare quality response chatgpt</td>\n",
       "      <td>[0, 0, 0, 0, 0, 0, 0, 0, 0, 0, 0, 0, 0, 0, 0, ...</td>\n",
       "      <td>bad</td>\n",
       "    </tr>\n",
       "  </tbody>\n",
       "</table>\n",
       "</div>"
      ],
      "text/plain": [
       "   index                                             tweets  \\\n",
       "0      4  As of 2 minutes ago, @OpenAI released their ne...   \n",
       "1      6  As of 2 minutes ago, @OpenAI released their ne...   \n",
       "2     10  GOD DAMN IT @OpenAI STOP ANNOUNCING THINGS I A...   \n",
       "3     17  #ai Models are set to become the search engine...   \n",
       "4     39  Google is done.\\n\\nCompare the quality of thes...   \n",
       "\n",
       "                                      cleaned_tweets  \\\n",
       "0          minute ago released new chatgpt use right   \n",
       "1          minute ago released new chatgpt use right   \n",
       "2                god damn stop announcing thing busy   \n",
       "3  model set become search engine future atm stil...   \n",
       "4       google done compare quality response chatgpt   \n",
       "\n",
       "                                      numeric_tweets labels  \n",
       "0  [0, 0, 0, 0, 0, 0, 0, 0, 0, 0, 0, 0, 0, 0, 0, ...    bad  \n",
       "1  [0, 0, 0, 0, 0, 0, 0, 0, 0, 0, 0, 0, 0, 0, 0, ...    bad  \n",
       "2  [0, 0, 0, 0, 0, 0, 0, 0, 0, 0, 0, 0, 0, 0, 0, ...    bad  \n",
       "3  [0, 0, 0, 0, 0, 0, 0, 0, 0, 0, 0, 0, 0, 0, 0, ...    bad  \n",
       "4  [0, 0, 0, 0, 0, 0, 0, 0, 0, 0, 0, 0, 0, 0, 0, ...    bad  "
      ]
     },
     "execution_count": 14,
     "metadata": {},
     "output_type": "execute_result"
    }
   ],
   "source": [
    "from numpy.core import numeric\n",
    "#@title ***Converting text to numerical form***\n",
    "\n",
    "import math\n",
    "import collections\n",
    "\n",
    "def convert_text_to_numerical(text):\n",
    "    num_words = 7000\n",
    "    tokenizer = Tokenizer(num_words=num_words)\n",
    "    tokenizer.fit_on_texts(text)\n",
    "    sequences = tokenizer.texts_to_sequences(text)\n",
    " \n",
    "    #maxlen = max(45, math.ceil(np.average([len(seq) for seq in sequences])))\n",
    "    maxlen = 140\n",
    "  \n",
    "    pad_seqs = pad_sequences(sequences, maxlen=maxlen)\n",
    "    pad_seqs_todrop = []\n",
    "    for i, p in enumerate(pad_seqs):\n",
    "        if sum(p) == sum(sorted(p, reverse=True)[0:2]):\n",
    "            pad_seqs_todrop.append(i)\n",
    "\n",
    "    return pad_seqs, pad_seqs_todrop, tokenizer, num_words, maxlen\n",
    "\n",
    "data = data.reset_index()\n",
    "numeric_tweets, rows_todrop, tokenizer, num_words, maxlen = convert_text_to_numerical(data['cleaned_tweets'])\n",
    "data.insert(len(data.columns)-1, \"numeric_tweets\", numeric_tweets.tolist())\n",
    "data.head()"
   ]
  },
  {
   "cell_type": "code",
   "execution_count": 15,
   "metadata": {},
   "outputs": [
    {
     "name": "stdout",
     "output_type": "stream",
     "text": [
      "['bad' 'good' 'neutral']\n"
     ]
    },
    {
     "data": {
      "text/html": [
       "<div>\n",
       "<style scoped>\n",
       "    .dataframe tbody tr th:only-of-type {\n",
       "        vertical-align: middle;\n",
       "    }\n",
       "\n",
       "    .dataframe tbody tr th {\n",
       "        vertical-align: top;\n",
       "    }\n",
       "\n",
       "    .dataframe thead th {\n",
       "        text-align: right;\n",
       "    }\n",
       "</style>\n",
       "<table border=\"1\" class=\"dataframe\">\n",
       "  <thead>\n",
       "    <tr style=\"text-align: right;\">\n",
       "      <th></th>\n",
       "      <th>index</th>\n",
       "      <th>tweets</th>\n",
       "      <th>cleaned_tweets</th>\n",
       "      <th>numeric_tweets</th>\n",
       "      <th>labels</th>\n",
       "      <th>encoded_labels</th>\n",
       "    </tr>\n",
       "  </thead>\n",
       "  <tbody>\n",
       "    <tr>\n",
       "      <th>0</th>\n",
       "      <td>4</td>\n",
       "      <td>As of 2 minutes ago, @OpenAI released their ne...</td>\n",
       "      <td>minute ago released new chatgpt use right</td>\n",
       "      <td>[0, 0, 0, 0, 0, 0, 0, 0, 0, 0, 0, 0, 0, 0, 0, ...</td>\n",
       "      <td>bad</td>\n",
       "      <td>0</td>\n",
       "    </tr>\n",
       "    <tr>\n",
       "      <th>1</th>\n",
       "      <td>6</td>\n",
       "      <td>As of 2 minutes ago, @OpenAI released their ne...</td>\n",
       "      <td>minute ago released new chatgpt use right</td>\n",
       "      <td>[0, 0, 0, 0, 0, 0, 0, 0, 0, 0, 0, 0, 0, 0, 0, ...</td>\n",
       "      <td>bad</td>\n",
       "      <td>0</td>\n",
       "    </tr>\n",
       "    <tr>\n",
       "      <th>2</th>\n",
       "      <td>10</td>\n",
       "      <td>GOD DAMN IT @OpenAI STOP ANNOUNCING THINGS I A...</td>\n",
       "      <td>god damn stop announcing thing busy</td>\n",
       "      <td>[0, 0, 0, 0, 0, 0, 0, 0, 0, 0, 0, 0, 0, 0, 0, ...</td>\n",
       "      <td>bad</td>\n",
       "      <td>0</td>\n",
       "    </tr>\n",
       "    <tr>\n",
       "      <th>3</th>\n",
       "      <td>17</td>\n",
       "      <td>#ai Models are set to become the search engine...</td>\n",
       "      <td>model set become search engine future atm stil...</td>\n",
       "      <td>[0, 0, 0, 0, 0, 0, 0, 0, 0, 0, 0, 0, 0, 0, 0, ...</td>\n",
       "      <td>bad</td>\n",
       "      <td>0</td>\n",
       "    </tr>\n",
       "    <tr>\n",
       "      <th>4</th>\n",
       "      <td>39</td>\n",
       "      <td>Google is done.\\n\\nCompare the quality of thes...</td>\n",
       "      <td>google done compare quality response chatgpt</td>\n",
       "      <td>[0, 0, 0, 0, 0, 0, 0, 0, 0, 0, 0, 0, 0, 0, 0, ...</td>\n",
       "      <td>bad</td>\n",
       "      <td>0</td>\n",
       "    </tr>\n",
       "  </tbody>\n",
       "</table>\n",
       "</div>"
      ],
      "text/plain": [
       "   index                                             tweets  \\\n",
       "0      4  As of 2 minutes ago, @OpenAI released their ne...   \n",
       "1      6  As of 2 minutes ago, @OpenAI released their ne...   \n",
       "2     10  GOD DAMN IT @OpenAI STOP ANNOUNCING THINGS I A...   \n",
       "3     17  #ai Models are set to become the search engine...   \n",
       "4     39  Google is done.\\n\\nCompare the quality of thes...   \n",
       "\n",
       "                                      cleaned_tweets  \\\n",
       "0          minute ago released new chatgpt use right   \n",
       "1          minute ago released new chatgpt use right   \n",
       "2                god damn stop announcing thing busy   \n",
       "3  model set become search engine future atm stil...   \n",
       "4       google done compare quality response chatgpt   \n",
       "\n",
       "                                      numeric_tweets labels  encoded_labels  \n",
       "0  [0, 0, 0, 0, 0, 0, 0, 0, 0, 0, 0, 0, 0, 0, 0, ...    bad               0  \n",
       "1  [0, 0, 0, 0, 0, 0, 0, 0, 0, 0, 0, 0, 0, 0, 0, ...    bad               0  \n",
       "2  [0, 0, 0, 0, 0, 0, 0, 0, 0, 0, 0, 0, 0, 0, 0, ...    bad               0  \n",
       "3  [0, 0, 0, 0, 0, 0, 0, 0, 0, 0, 0, 0, 0, 0, 0, ...    bad               0  \n",
       "4  [0, 0, 0, 0, 0, 0, 0, 0, 0, 0, 0, 0, 0, 0, 0, ...    bad               0  "
      ]
     },
     "execution_count": 15,
     "metadata": {},
     "output_type": "execute_result"
    }
   ],
   "source": [
    "label_encoder = LabelEncoder()\n",
    "data.insert(len(data.columns), \"encoded_labels\", label_encoder.fit_transform(data['labels']))\n",
    "print(label_encoder.classes_)\n",
    "data.head()"
   ]
  },
  {
   "cell_type": "code",
   "execution_count": 16,
   "metadata": {},
   "outputs": [
    {
     "name": "stdout",
     "output_type": "stream",
     "text": [
      "180928 167734\n"
     ]
    },
    {
     "data": {
      "text/html": [
       "<div>\n",
       "<style scoped>\n",
       "    .dataframe tbody tr th:only-of-type {\n",
       "        vertical-align: middle;\n",
       "    }\n",
       "\n",
       "    .dataframe tbody tr th {\n",
       "        vertical-align: top;\n",
       "    }\n",
       "\n",
       "    .dataframe thead th {\n",
       "        text-align: right;\n",
       "    }\n",
       "</style>\n",
       "<table border=\"1\" class=\"dataframe\">\n",
       "  <thead>\n",
       "    <tr style=\"text-align: right;\">\n",
       "      <th></th>\n",
       "      <th>index</th>\n",
       "      <th>tweets</th>\n",
       "      <th>cleaned_tweets</th>\n",
       "      <th>numeric_tweets</th>\n",
       "      <th>labels</th>\n",
       "      <th>encoded_labels</th>\n",
       "    </tr>\n",
       "  </thead>\n",
       "  <tbody>\n",
       "    <tr>\n",
       "      <th>0</th>\n",
       "      <td>4</td>\n",
       "      <td>As of 2 minutes ago, @OpenAI released their ne...</td>\n",
       "      <td>minute ago released new chatgpt use right</td>\n",
       "      <td>[0, 0, 0, 0, 0, 0, 0, 0, 0, 0, 0, 0, 0, 0, 0, ...</td>\n",
       "      <td>bad</td>\n",
       "      <td>0</td>\n",
       "    </tr>\n",
       "    <tr>\n",
       "      <th>1</th>\n",
       "      <td>6</td>\n",
       "      <td>As of 2 minutes ago, @OpenAI released their ne...</td>\n",
       "      <td>minute ago released new chatgpt use right</td>\n",
       "      <td>[0, 0, 0, 0, 0, 0, 0, 0, 0, 0, 0, 0, 0, 0, 0, ...</td>\n",
       "      <td>bad</td>\n",
       "      <td>0</td>\n",
       "    </tr>\n",
       "    <tr>\n",
       "      <th>2</th>\n",
       "      <td>10</td>\n",
       "      <td>GOD DAMN IT @OpenAI STOP ANNOUNCING THINGS I A...</td>\n",
       "      <td>god damn stop announcing thing busy</td>\n",
       "      <td>[0, 0, 0, 0, 0, 0, 0, 0, 0, 0, 0, 0, 0, 0, 0, ...</td>\n",
       "      <td>bad</td>\n",
       "      <td>0</td>\n",
       "    </tr>\n",
       "    <tr>\n",
       "      <th>3</th>\n",
       "      <td>17</td>\n",
       "      <td>#ai Models are set to become the search engine...</td>\n",
       "      <td>model set become search engine future atm stil...</td>\n",
       "      <td>[0, 0, 0, 0, 0, 0, 0, 0, 0, 0, 0, 0, 0, 0, 0, ...</td>\n",
       "      <td>bad</td>\n",
       "      <td>0</td>\n",
       "    </tr>\n",
       "    <tr>\n",
       "      <th>4</th>\n",
       "      <td>39</td>\n",
       "      <td>Google is done.\\n\\nCompare the quality of thes...</td>\n",
       "      <td>google done compare quality response chatgpt</td>\n",
       "      <td>[0, 0, 0, 0, 0, 0, 0, 0, 0, 0, 0, 0, 0, 0, 0, ...</td>\n",
       "      <td>bad</td>\n",
       "      <td>0</td>\n",
       "    </tr>\n",
       "  </tbody>\n",
       "</table>\n",
       "</div>"
      ],
      "text/plain": [
       "   index                                             tweets  \\\n",
       "0      4  As of 2 minutes ago, @OpenAI released their ne...   \n",
       "1      6  As of 2 minutes ago, @OpenAI released their ne...   \n",
       "2     10  GOD DAMN IT @OpenAI STOP ANNOUNCING THINGS I A...   \n",
       "3     17  #ai Models are set to become the search engine...   \n",
       "4     39  Google is done.\\n\\nCompare the quality of thes...   \n",
       "\n",
       "                                      cleaned_tweets  \\\n",
       "0          minute ago released new chatgpt use right   \n",
       "1          minute ago released new chatgpt use right   \n",
       "2                god damn stop announcing thing busy   \n",
       "3  model set become search engine future atm stil...   \n",
       "4       google done compare quality response chatgpt   \n",
       "\n",
       "                                      numeric_tweets labels  encoded_labels  \n",
       "0  [0, 0, 0, 0, 0, 0, 0, 0, 0, 0, 0, 0, 0, 0, 0, ...    bad               0  \n",
       "1  [0, 0, 0, 0, 0, 0, 0, 0, 0, 0, 0, 0, 0, 0, 0, ...    bad               0  \n",
       "2  [0, 0, 0, 0, 0, 0, 0, 0, 0, 0, 0, 0, 0, 0, 0, ...    bad               0  \n",
       "3  [0, 0, 0, 0, 0, 0, 0, 0, 0, 0, 0, 0, 0, 0, 0, ...    bad               0  \n",
       "4  [0, 0, 0, 0, 0, 0, 0, 0, 0, 0, 0, 0, 0, 0, 0, ...    bad               0  "
      ]
     },
     "execution_count": 16,
     "metadata": {},
     "output_type": "execute_result"
    }
   ],
   "source": [
    "final_data = data.drop(rows_todrop, inplace=False)\n",
    "print(len(data), len(final_data))\n",
    "final_data.head()"
   ]
  },
  {
   "cell_type": "markdown",
   "metadata": {},
   "source": [
    "Splitting Data: taining 80% and 20% for testing"
   ]
  },
  {
   "cell_type": "code",
   "execution_count": 17,
   "metadata": {},
   "outputs": [],
   "source": [
    "inputs = final_data[['tweets', 'cleaned_tweets', 'numeric_tweets']]\n",
    "outputs = final_data[['labels', 'encoded_labels']]\n",
    "\n",
    "in_train, in_test, out_train, out_test = train_test_split(inputs, outputs, test_size=0.2, shuffle=True, random_state=42)\n",
    "\n",
    "X_train = in_train['numeric_tweets']\n",
    "X_test = in_test['numeric_tweets'] \n",
    "y_train = out_train['encoded_labels']\n",
    "y_test = out_test['encoded_labels']"
   ]
  },
  {
   "cell_type": "markdown",
   "metadata": {},
   "source": [
    "Saving training and testing data into csv files"
   ]
  },
  {
   "cell_type": "code",
   "execution_count": 18,
   "metadata": {},
   "outputs": [
    {
     "data": {
      "text/plain": [
       "numpy.ndarray"
      ]
     },
     "execution_count": 18,
     "metadata": {},
     "output_type": "execute_result"
    }
   ],
   "source": [
    "#training_df = pd.concat([in_train, out_train], axis=1)\n",
    "#training_df.to_csv('training_data.csv', encoding='utf-8', index=False)\n",
    "#testing_df = pd.concat([in_test, out_test], axis=1)\n",
    "#testing_df.to_csv('testing_data.csv', encoding='utf-8', index=False)\n",
    "\n",
    "X_train = np.asarray(X_train.tolist())\n",
    "X_train = X_train.astype(np.int32)\n",
    "X_test = np.asarray(X_test.tolist()).astype(np.int32)\n",
    "y_train = np.asarray(y_train.tolist()).astype(np.int32)\n",
    "y_test = np.asarray(y_test.tolist()).astype(np.int32)\n",
    "type(X_train)"
   ]
  },
  {
   "cell_type": "code",
   "execution_count": 19,
   "metadata": {},
   "outputs": [
    {
     "data": {
      "text/plain": [
       "array([[   0,    0,    0, ...,  618,  106,  407],\n",
       "       [   0,    0,    0, ...,   46,    2, 2489],\n",
       "       [   0,    0,    0, ...,  949, 5749,   31],\n",
       "       ...,\n",
       "       [   0,    0,    0, ...,  104,  314,  178],\n",
       "       [   0,    0,    0, ..., 1108, 1815,   20],\n",
       "       [   0,    0,    0, ...,  195,  479,   46]])"
      ]
     },
     "execution_count": 19,
     "metadata": {},
     "output_type": "execute_result"
    }
   ],
   "source": [
    "X_train"
   ]
  },
  {
   "cell_type": "markdown",
   "metadata": {},
   "source": [
    "LSTM"
   ]
  },
  {
   "cell_type": "code",
   "execution_count": 20,
   "metadata": {},
   "outputs": [],
   "source": [
    "from keras.preprocessing.text import Tokenizer\n",
    "from keras.utils import pad_sequences\n",
    "\n",
    "# Tokenize the input text\n",
    "tokenizer = Tokenizer(num_words=7000)\n",
    "tokenizer.fit_on_texts(data[\"tweets\"])\n",
    "\n",
    "\n",
    "# Pad the sequences to a fixed length\n",
    "max_len = 140"
   ]
  },
  {
   "cell_type": "markdown",
   "metadata": {},
   "source": [
    "Word embedding"
   ]
  },
  {
   "cell_type": "code",
   "execution_count": 22,
   "metadata": {},
   "outputs": [],
   "source": [
    "import numpy as np\n",
    "from keras.utils import to_categorical\n",
    "\n",
    "# Load pre-trained word embeddings\n",
    "embedding_dim = 100\n",
    "embeddings_index = {}\n",
    "with open('glove.6B.100d.txt', encoding='utf8') as f:\n",
    "    for line in f:\n",
    "        values = line.split()\n",
    "        word = values[0]\n",
    "        coefs = np.asarray(values[1:], dtype='float32')\n",
    "        embeddings_index[word] = coefs\n",
    "\n",
    "# Create an embedding matrix for the tokenizer\n",
    "word_index = tokenizer.word_index\n",
    "#num_words = min(len(word_index), 7000)\n",
    "num_words =  7000\n",
    "embedding_matrix = np.zeros((num_words, embedding_dim))\n",
    "for word, i in word_index.items():\n",
    "    if i >= num_words:\n",
    "        continue\n",
    "    embedding_vector = embeddings_index.get(word)\n",
    "    if embedding_vector is not None:\n",
    "        embedding_matrix[i] = embedding_vector\n",
    "\n",
    "# Convert the output labels to one-hot encoded vectors\n",
    "y_train_en = to_categorical(y_train)\n",
    "y_test_en = to_categorical(y_test)"
   ]
  },
  {
   "cell_type": "markdown",
   "metadata": {},
   "source": [
    "Training model"
   ]
  },
  {
   "cell_type": "code",
   "execution_count": 23,
   "metadata": {},
   "outputs": [
    {
     "name": "stdout",
     "output_type": "stream",
     "text": [
      "Epoch 1/10\n",
      "118/118 [==============================] - 548s 5s/step - loss: 0.9725 - accuracy: 0.5100 - val_loss: 0.7755 - val_accuracy: 0.6502\n",
      "Epoch 2/10\n",
      "118/118 [==============================] - 765s 6s/step - loss: 0.6738 - accuracy: 0.7106 - val_loss: 0.5278 - val_accuracy: 0.7916\n",
      "Epoch 3/10\n",
      "118/118 [==============================] - 977s 8s/step - loss: 0.5090 - accuracy: 0.8020 - val_loss: 0.4423 - val_accuracy: 0.8320\n",
      "Epoch 4/10\n",
      "118/118 [==============================] - 985s 8s/step - loss: 0.4376 - accuracy: 0.8365 - val_loss: 0.4001 - val_accuracy: 0.8591\n",
      "Epoch 5/10\n",
      "118/118 [==============================] - 1052s 9s/step - loss: 0.3927 - accuracy: 0.8569 - val_loss: 0.3704 - val_accuracy: 0.8711\n",
      "Epoch 6/10\n",
      "118/118 [==============================] - 1077s 9s/step - loss: 0.3636 - accuracy: 0.8721 - val_loss: 0.3476 - val_accuracy: 0.8844\n",
      "Epoch 7/10\n",
      "118/118 [==============================] - 1092s 9s/step - loss: 0.3408 - accuracy: 0.8822 - val_loss: 0.3409 - val_accuracy: 0.8863\n",
      "Epoch 8/10\n",
      "118/118 [==============================] - 1099s 9s/step - loss: 0.3242 - accuracy: 0.8894 - val_loss: 0.3334 - val_accuracy: 0.8915\n",
      "Epoch 9/10\n",
      "118/118 [==============================] - 23836s 204s/step - loss: 0.3136 - accuracy: 0.8943 - val_loss: 0.3290 - val_accuracy: 0.8946\n",
      "Epoch 10/10\n",
      "118/118 [==============================] - 838s 7s/step - loss: 0.3055 - accuracy: 0.8981 - val_loss: 0.3222 - val_accuracy: 0.8971\n"
     ]
    }
   ],
   "source": [
    "from keras.models import Sequential\n",
    "from keras.layers import Embedding, LSTM, Dense\n",
    "from keras.callbacks import EarlyStopping\n",
    "\n",
    "# Create the model\n",
    "model2 = Sequential()\n",
    "model2.add(Embedding(num_words, embedding_dim, input_length=max_len, weights=[embedding_matrix], trainable=True))\n",
    "model2.add(LSTM(64, dropout=0.3, recurrent_dropout=0.3))\n",
    "model2.add(Dense(3, activation='softmax'))\n",
    "#model2.add(Dense(3, activation='relu'))\n",
    "\n",
    "\n",
    "# Compile the model\n",
    "model2.compile(loss='categorical_crossentropy', optimizer='adam', metrics=['accuracy'])\n",
    "\n",
    "# Train the model\n",
    "#model2.fit(X_train, y_train_onehot, validation_data=(X_test, y_test_onehot), epochs=10, batch_size=1024)\n",
    "history2 = model2.fit(X_train, y_train_en, epochs=10, batch_size=1024, validation_split=0.1, callbacks=[EarlyStopping(monitor='val_loss', patience=3, min_delta=0.001)])"
   ]
  },
  {
   "cell_type": "markdown",
   "metadata": {},
   "source": [
    "Testing"
   ]
  },
  {
   "cell_type": "code",
   "execution_count": 24,
   "metadata": {},
   "outputs": [
    {
     "name": "stdout",
     "output_type": "stream",
     "text": [
      "1049/1049 [==============================] - 82s 78ms/step\n"
     ]
    },
    {
     "data": {
      "text/plain": [
       "{'accuracy': 0.8954004829045816,\n",
       " 'recall': 0.8954004829045816,\n",
       " 'precision': 0.8954004829045816,\n",
       " 'fscore': 0.8954004829045816}"
      ]
     },
     "execution_count": 24,
     "metadata": {},
     "output_type": "execute_result"
    }
   ],
   "source": [
    "def get_measurements(true_y, pred_y, average='micro'):\n",
    "    return {\n",
    "      \"accuracy\": accuracy_score(true_y, pred_y),\n",
    "      \"recall\": recall_score(true_y, pred_y, average=average),\n",
    "      \"precision\": precision_score(true_y, pred_y, average=average),\n",
    "      \"fscore\": f1_score(true_y, pred_y, average=average),\n",
    "  }\n",
    "\n",
    "predicted_labels = model2.predict(X_test, verbose=1)\n",
    "get_measurements(y_test,  np.argmax(predicted_labels, axis=1))"
   ]
  },
  {
   "cell_type": "markdown",
   "metadata": {},
   "source": [
    "Graph"
   ]
  },
  {
   "cell_type": "code",
   "execution_count": 25,
   "metadata": {},
   "outputs": [],
   "source": [
    "import matplotlib.pyplot as plt\n",
    "def plot_graphs(history, string):\n",
    "    plt.plot(history.history[string])\n",
    "    plt.plot(history.history['val_'+string])\n",
    "    plt.xlabel(\"Epochs\")\n",
    "    plt.ylabel(string)\n",
    "    plt.legend([string, 'val_'+string])\n",
    "    plt.show()"
   ]
  },
  {
   "cell_type": "code",
   "execution_count": 26,
   "metadata": {},
   "outputs": [
    {
     "data": {
      "image/png": "[encoded data removed]",
      "text/plain": [
       "<Figure size 640x480 with 1 Axes>"
      ]
     },
     "metadata": {},
     "output_type": "display_data"
    }
   ],
   "source": [
    "#x = [1 , 2 , 3 , 4]\n",
    "x= np.array([1, 2 , 3 ,  4])\n",
    "y = [52 , 86 , 75 , 88]\n",
    "y= np.array([52 , 86 , 75 , 88])\n",
    "#plt.plot(x)\n",
    "plt.plot(x,y)\n",
    "\n",
    "plt.xlabel(\"Trial\")\n",
    "plt.ylabel(\"Accuracy\")\n",
    "plt.show()"
   ]
  },
  {
   "cell_type": "code",
   "execution_count": 27,
   "metadata": {},
   "outputs": [
    {
     "data": {
      "image/png": "[encoded data removed]",
      "text/plain": [
       "<Figure size 640x480 with 1 Axes>"
      ]
     },
     "metadata": {},
     "output_type": "display_data"
    }
   ],
   "source": [
    "x = [1 , 2 , 3 , 4]\n",
    "y = [40 ,  86  , 89, 89]\n",
    "#plt.plot(x)\n",
    "plt.plot(x,y)\n",
    "\n",
    "plt.xlabel(\"Trial\")\n",
    "plt.ylabel(\"Accuracy\")\n",
    "plt.show()"
   ]
  },
  {
   "cell_type": "code",
   "execution_count": 28,
   "metadata": {},
   "outputs": [
    {
     "data": {
      "image/png": "[encoded data removed]",
      "text/plain": [
       "<Figure size 640x480 with 1 Axes>"
      ]
     },
     "metadata": {},
     "output_type": "display_data"
    },
    {
     "data": {
      "image/png": "[encoded data removed]",
      "text/plain": [
       "<Figure size 640x480 with 1 Axes>"
      ]
     },
     "metadata": {},
     "output_type": "display_data"
    }
   ],
   "source": [
    "plot_graphs(history2, \"accuracy\")\n",
    "plot_graphs(history2, \"loss\")"
   ]
  }
 ],
 "metadata": {
  "kernelspec": {
   "display_name": "Python 3",
   "language": "python",
   "name": "python3"
  },
  "language_info": {
   "codemirror_mode": {
    "name": "ipython",
    "version": 3
   },
   "file_extension": ".py",
   "mimetype": "text/x-python",
   "name": "python",
   "nbconvert_exporter": "python",
   "pygments_lexer": "ipython3",
   "version": "3.10.6"
  }
 },
 "nbformat": 4,
 "nbformat_minor": 2
}
